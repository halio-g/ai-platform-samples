{
  "cells": [
    {
      "cell_type": "code",
      "execution_count": null,
      "metadata": {
        "id": "7fPc-KWUi2Xd"
      },
      "outputs": [],
      "source": [
        "# Copyright 2020 Google LLC\n",
        "#\n",
        "# Licensed under the Apache License, Version 2.0 (the \"License\");\n",
        "# you may not use this file except in compliance with the License.\n",
        "# You may obtain a copy of the License at\n",
        "#\n",
        "#     https://www.apache.org/licenses/LICENSE-2.0\n",
        "#\n",
        "# Unless required by applicable law or agreed to in writing, software\n",
        "# distributed under the License is distributed on an \"AS IS\" BASIS,\n",
        "# WITHOUT WARRANTIES OR CONDITIONS OF ANY KIND, either express or implied.\n",
        "# See the License for the specific language governing permissions and\n",
        "# limitations under the License."
      ]
    },
    {
      "cell_type": "markdown",
      "metadata": {
        "id": "AksIKBzZ-nre"
      },
      "source": [
        "# Optimizing multiple objectives\n",
        "\n",
        "This tutorial demonstrates [AI Platform(Unified) Vizier](https://cloud.google.com/ai-platform-unified/docs/vizier/overview) multi-objective optimization. Multi-objective optimization is concerned with mathematical optimization problems involving more than one objective function to be optimized simultaneously\n",
        "\n",
        "### Objective\n",
        "\n",
        "The goal is to __`minimize`__ the objective metric:\n",
        "   ```\n",
        "   y1 = r*sin(theta)\n",
        "   ```\n",
        "\n",
        "and simultaneously __`maximize`__ the objective metric:\n",
        "   ```\n",
        "   y2 = r*cos(theta)\n",
        "   ```\n",
        "\n",
        "that you will evaluate over the parameter space:\n",
        "\n",
        "   - __`r`__ in [0,1],\n",
        "\n",
        "   - __`theta`__ in [0, pi/2]\n",
        "\n",
        "### Costs\n",
        "\n",
        "This tutorial uses billable components of Google Cloud:\n",
        "\n",
        "* AI Platform(Unified)\n",
        "\n",
        "Learn about [AI Platform(Unified)\n",
        "pricing](https://cloud.google.com/ai-platform-unified/pricing) and use the [Pricing\n",
        "Calculator](https://cloud.google.com/products/calculator/)\n",
        "to generate a cost estimate based on your projected usage.\n"
      ]
    },
    {
      "cell_type": "markdown",
      "metadata": {
        "id": "iMHz63rPbq6P"
      },
      "source": [
        "#### Install AI Platform(Unified) library\n",
        "\n",
        "Download and install AI Platform(Unified) library."
      ]
    },
    {
      "cell_type": "code",
      "execution_count": null,
      "metadata": {
        "id": "g7WlujNxbq6Q"
      },
      "outputs": [
        {
          "name": "stdout",
          "output_type": "stream",
          "text": [
            "Collecting google-cloud-aiplatform\n",
            "\u001b[?25l  Downloading https://files.pythonhosted.org/packages/ca/19/7086eb3910c0221390356cea84ef5e2c34424158f93dad57a9080c0dc39e/google_cloud_aiplatform-0.6.0-py2.py3-none-any.whl (1.1MB)\n",
            "\u001b[K     |████████████████████████████████| 1.1MB 5.3MB/s \n",
            "\u001b[?25hCollecting google-cloud-storage<2.0.0dev,>=1.26.0\n",
            "\u001b[?25l  Downloading https://files.pythonhosted.org/packages/8d/9e/c8d05c68b0d96c10f4dc5c150048e1c8d42289b2f6a54869092e9a73a4ee/google_cloud_storage-1.37.1-py2.py3-none-any.whl (103kB)\n",
            "\u001b[K     |████████████████████████████████| 112kB 16.2MB/s \n",
            "\u001b[?25hRequirement already satisfied, skipping upgrade: google-api-core[grpc]<2.0.0dev,>=1.22.2 in /usr/local/lib/python3.7/dist-packages (from google-cloud-aiplatform) (1.26.2)\n",
            "Collecting proto-plus>=1.10.1\n",
            "\u001b[?25l  Downloading https://files.pythonhosted.org/packages/b4/8a/61c5a9b9b6288f9b060b6e3d88374fc083953a29aeac7206616c2d3c9c8e/proto_plus-1.18.1-py3-none-any.whl (42kB)\n",
            "\u001b[K     |████████████████████████████████| 51kB 5.3MB/s \n",
            "\u001b[?25hCollecting google-resumable-media<2.0dev,>=1.2.0\n",
            "\u001b[?25l  Downloading https://files.pythonhosted.org/packages/22/52/4b086e0d15245b648e2b6d408fb2f2974a3a5a405de5d7fae25cd085a3fa/google_resumable_media-1.2.0-py2.py3-none-any.whl (75kB)\n",
            "\u001b[K     |████████████████████████████████| 81kB 6.5MB/s \n",
            "\u001b[?25hRequirement already satisfied, skipping upgrade: google-auth<2.0dev,>=1.11.0 in /usr/local/lib/python3.7/dist-packages (from google-cloud-storage<2.0.0dev,>=1.26.0->google-cloud-aiplatform) (1.28.0)\n",
            "Collecting google-cloud-core<2.0dev,>=1.4.1\n",
            "  Downloading https://files.pythonhosted.org/packages/ad/fc/6e8c449185cb8862af353c1164100ff75e32d55ba1de3baf9eaa01b7d2a9/google_cloud_core-1.6.0-py2.py3-none-any.whl\n",
            "Requirement already satisfied, skipping upgrade: requests<3.0.0dev,>=2.18.0 in /usr/local/lib/python3.7/dist-packages (from google-cloud-storage<2.0.0dev,>=1.26.0->google-cloud-aiplatform) (2.23.0)\n",
            "Requirement already satisfied, skipping upgrade: six>=1.13.0 in /usr/local/lib/python3.7/dist-packages (from google-api-core[grpc]<2.0.0dev,>=1.22.2->google-cloud-aiplatform) (1.15.0)\n",
            "Requirement already satisfied, skipping upgrade: setuptools>=40.3.0 in /usr/local/lib/python3.7/dist-packages (from google-api-core[grpc]<2.0.0dev,>=1.22.2->google-cloud-aiplatform) (54.2.0)\n",
            "Requirement already satisfied, skipping upgrade: packaging>=14.3 in /usr/local/lib/python3.7/dist-packages (from google-api-core[grpc]<2.0.0dev,>=1.22.2->google-cloud-aiplatform) (20.9)\n",
            "Requirement already satisfied, skipping upgrade: googleapis-common-protos<2.0dev,>=1.6.0 in /usr/local/lib/python3.7/dist-packages (from google-api-core[grpc]<2.0.0dev,>=1.22.2->google-cloud-aiplatform) (1.53.0)\n",
            "Requirement already satisfied, skipping upgrade: protobuf>=3.12.0 in /usr/local/lib/python3.7/dist-packages (from google-api-core[grpc]<2.0.0dev,>=1.22.2->google-cloud-aiplatform) (3.12.4)\n",
            "Requirement already satisfied, skipping upgrade: pytz in /usr/local/lib/python3.7/dist-packages (from google-api-core[grpc]<2.0.0dev,>=1.22.2->google-cloud-aiplatform) (2018.9)\n",
            "Requirement already satisfied, skipping upgrade: grpcio<2.0dev,>=1.29.0; extra == \"grpc\" in /usr/local/lib/python3.7/dist-packages (from google-api-core[grpc]<2.0.0dev,>=1.22.2->google-cloud-aiplatform) (1.32.0)\n",
            "Collecting google-crc32c<2.0dev,>=1.0; python_version >= \"3.5\"\n",
            "  Downloading https://files.pythonhosted.org/packages/fc/ae/b6efa1019e18c6c791f0f5cd93b2ff40f8f06696dbf04db39ec0f5591b1e/google_crc32c-1.1.2-cp37-cp37m-manylinux2014_x86_64.whl\n",
            "Requirement already satisfied, skipping upgrade: cachetools<5.0,>=2.0.0 in /usr/local/lib/python3.7/dist-packages (from google-auth<2.0dev,>=1.11.0->google-cloud-storage<2.0.0dev,>=1.26.0->google-cloud-aiplatform) (4.2.1)\n",
            "Requirement already satisfied, skipping upgrade: pyasn1-modules>=0.2.1 in /usr/local/lib/python3.7/dist-packages (from google-auth<2.0dev,>=1.11.0->google-cloud-storage<2.0.0dev,>=1.26.0->google-cloud-aiplatform) (0.2.8)\n",
            "Requirement already satisfied, skipping upgrade: rsa<5,>=3.1.4; python_version >= \"3.6\" in /usr/local/lib/python3.7/dist-packages (from google-auth<2.0dev,>=1.11.0->google-cloud-storage<2.0.0dev,>=1.26.0->google-cloud-aiplatform) (4.7.2)\n",
            "Requirement already satisfied, skipping upgrade: chardet<4,>=3.0.2 in /usr/local/lib/python3.7/dist-packages (from requests<3.0.0dev,>=2.18.0->google-cloud-storage<2.0.0dev,>=1.26.0->google-cloud-aiplatform) (3.0.4)\n",
            "Requirement already satisfied, skipping upgrade: urllib3!=1.25.0,!=1.25.1,<1.26,>=1.21.1 in /usr/local/lib/python3.7/dist-packages (from requests<3.0.0dev,>=2.18.0->google-cloud-storage<2.0.0dev,>=1.26.0->google-cloud-aiplatform) (1.24.3)\n",
            "Requirement already satisfied, skipping upgrade: idna<3,>=2.5 in /usr/local/lib/python3.7/dist-packages (from requests<3.0.0dev,>=2.18.0->google-cloud-storage<2.0.0dev,>=1.26.0->google-cloud-aiplatform) (2.10)\n",
            "Requirement already satisfied, skipping upgrade: certifi>=2017.4.17 in /usr/local/lib/python3.7/dist-packages (from requests<3.0.0dev,>=2.18.0->google-cloud-storage<2.0.0dev,>=1.26.0->google-cloud-aiplatform) (2020.12.5)\n",
            "Requirement already satisfied, skipping upgrade: pyparsing>=2.0.2 in /usr/local/lib/python3.7/dist-packages (from packaging>=14.3->google-api-core[grpc]<2.0.0dev,>=1.22.2->google-cloud-aiplatform) (2.4.7)\n",
            "Requirement already satisfied, skipping upgrade: cffi>=1.0.0 in /usr/local/lib/python3.7/dist-packages (from google-crc32c<2.0dev,>=1.0; python_version >= \"3.5\"->google-resumable-media<2.0dev,>=1.2.0->google-cloud-storage<2.0.0dev,>=1.26.0->google-cloud-aiplatform) (1.14.5)\n",
            "Requirement already satisfied, skipping upgrade: pyasn1<0.5.0,>=0.4.6 in /usr/local/lib/python3.7/dist-packages (from pyasn1-modules>=0.2.1->google-auth<2.0dev,>=1.11.0->google-cloud-storage<2.0.0dev,>=1.26.0->google-cloud-aiplatform) (0.4.8)\n",
            "Requirement already satisfied, skipping upgrade: pycparser in /usr/local/lib/python3.7/dist-packages (from cffi>=1.0.0->google-crc32c<2.0dev,>=1.0; python_version >= \"3.5\"->google-resumable-media<2.0dev,>=1.2.0->google-cloud-storage<2.0.0dev,>=1.26.0->google-cloud-aiplatform) (2.20)\n",
            "\u001b[31mERROR: google-cloud-bigquery 1.21.0 has requirement google-resumable-media!=0.4.0,<0.5.0dev,>=0.3.1, but you'll have google-resumable-media 1.2.0 which is incompatible.\u001b[0m\n",
            "Installing collected packages: google-crc32c, google-resumable-media, google-cloud-core, google-cloud-storage, proto-plus, google-cloud-aiplatform\n",
            "  Found existing installation: google-resumable-media 0.4.1\n",
            "    Uninstalling google-resumable-media-0.4.1:\n",
            "      Successfully uninstalled google-resumable-media-0.4.1\n",
            "  Found existing installation: google-cloud-core 1.0.3\n",
            "    Uninstalling google-cloud-core-1.0.3:\n",
            "      Successfully uninstalled google-cloud-core-1.0.3\n",
            "  Found existing installation: google-cloud-storage 1.18.1\n",
            "    Uninstalling google-cloud-storage-1.18.1:\n",
            "      Successfully uninstalled google-cloud-storage-1.18.1\n",
            "Successfully installed google-cloud-aiplatform-0.6.0 google-cloud-core-1.6.0 google-cloud-storage-1.37.1 google-crc32c-1.1.2 google-resumable-media-1.2.0 proto-plus-1.18.1\n"
          ]
        },
        {
          "data": {
            "application/vnd.colab-display-data+json": {
              "pip_warning": {
                "packages": [
                  "google"
                ]
              }
            }
          },
          "metadata": {
            "tags": []
          },
          "output_type": "display_data"
        }
      ],
      "source": [
        "! pip install -U google-cloud-aiplatform"
      ]
    },
    {
      "cell_type": "code",
      "execution_count": null,
      "metadata": {
        "id": "O8AIwN0abq6U"
      },
      "outputs": [
        {
          "data": {
            "text/plain": [
              "{'restart': True, 'status': 'ok'}"
            ]
          },
          "execution_count": 2,
          "metadata": {
            "tags": []
          },
          "output_type": "execute_result"
        }
      ],
      "source": [
        "# Restart the kernel after pip installs\n",
        "import IPython\n",
        "\n",
        "app = IPython.Application.instance()\n",
        "app.kernel.do_shutdown(True)"
      ]
    },
    {
      "cell_type": "markdown",
      "metadata": {
        "id": "Xc9LnICki2Xp"
      },
      "source": [
        "### Set up your Google Cloud project\n",
        "\n",
        "**The following steps are required, regardless of your notebook environment.**\n",
        "\n",
        "1. [Select or create a Google Cloud project.](https://console.cloud.google.com/cloud-resource-manager)\n",
        "\n",
        "2. [Make sure that billing is enabled for your project.](https://cloud.google.com/billing/docs/how-to/modify-project)\n",
        "\n",
        "3. [Enable the AI Platform(Unified) APIs](https://console.cloud.google.com/flows/enableapi?apiid=aiplatform.googleapis.com)\n",
        "\n",
        "4. Enter your project ID in the cell below. Then run the  cell to make sure the\n",
        "right project is used for all the commands in this notebook.\n",
        "\n",
        "**Note**: Jupyter runs lines prefixed with `!` as shell commands, and it interpolates Python variables prefixed with `$` into these commands."
      ]
    },
    {
      "cell_type": "markdown",
      "metadata": {
        "id": "h0SMyUsC-mzi"
      },
      "source": [
        "### Authenticate your Google Cloud account\n",
        "\n",
        "**If you are using [AI Platform Notebooks](https://cloud.google.com/ai-platform/notebooks/docs/)**, your environment is already\n",
        "authenticated. Skip these steps."
      ]
    },
    {
      "cell_type": "code",
      "execution_count": null,
      "metadata": {
        "id": "iTQY9g4mRo6r"
      },
      "outputs": [
        {
          "name": "stdout",
          "output_type": "stream",
          "text": [
            "Go to the following link in your browser:\n",
            "\n",
            "    https://accounts.google.com/o/oauth2/auth?response_type=code&client_id=32555940559.apps.googleusercontent.com&redirect_uri=urn%3Aietf%3Awg%3Aoauth%3A2.0%3Aoob&scope=openid+https%3A%2F%2Fwww.googleapis.com%2Fauth%2Fuserinfo.email+https%3A%2F%2Fwww.googleapis.com%2Fauth%2Fcloud-platform+https%3A%2F%2Fwww.googleapis.com%2Fauth%2Fappengine.admin+https%3A%2F%2Fwww.googleapis.com%2Fauth%2Fcompute+https%3A%2F%2Fwww.googleapis.com%2Fauth%2Faccounts.reauth&state=55453qLPuIxwG0JmUYw1BZrE3vwNbM&prompt=consent&access_type=offline&code_challenge=qiP9yUITD5N-pbKsKyTBWXREmMAJK2br-puVm0lF-x8&code_challenge_method=S256\n",
            "\n",
            "Enter verification code: 4/1AY0e-g7JNyJGrP5547sqWH3OnA0UNHCbwzqlx8dwp0JzEgZMHa_prH5uziw\n",
            "\n",
            "You are now logged in as [halio@google.com].\n",
            "Your current project is [None].  You can change this setting by running:\n",
            "  $ gcloud config set project PROJECT_ID\n"
          ]
        }
      ],
      "source": [
        "import sys\n",
        "\n",
        "# If you are running this notebook in Colab, run this cell and follow the\n",
        "# instructions to authenticate your Google Cloud account. This provides access\n",
        "# to your Cloud Storage bucket and lets you submit training jobs and prediction\n",
        "# requests.\n",
        "\n",
        "if \"google.colab\" in sys.modules:\n",
        "    from google.colab import auth as google_auth\n",
        "\n",
        "    google_auth.authenticate_user()\n",
        "\n",
        "# If you are running this tutorial in a notebook locally, replace the string\n",
        "# below with the path to your service account key and run this cell to\n",
        "# authenticate your Google Cloud account.\n",
        "else:\n",
        "    %env GOOGLE_APPLICATION_CREDENTIALS your_path_to_credentials.json\n",
        "\n",
        "# Log in to your account on Google Cloud\n",
        "!gcloud auth login"
      ]
    },
    {
      "cell_type": "markdown",
      "metadata": {
        "id": "Dax2zrpTi2Xy"
      },
      "source": [
        "### Import libraries and define constants"
      ]
    },
    {
      "cell_type": "code",
      "execution_count": null,
      "metadata": {
        "id": "xD60d6Q0i2X0"
      },
      "outputs": [],
      "source": [
        "import datetime\n",
        "import json\n",
        "\n",
        "from google.cloud import aiplatform_v1beta1"
      ]
    },
    {
      "cell_type": "markdown",
      "metadata": {
        "id": "CWuu4wmki2X3"
      },
      "source": [
        "## Tutorial\n"
      ]
    },
    {
      "cell_type": "markdown",
      "metadata": {
        "id": "KyEjqIdnad0w"
      },
      "source": [
        "This section defines some parameters and util methods to call AI Platform(Unified) Vizier APIs. Please fill in the following information to get started."
      ]
    },
    {
      "cell_type": "code",
      "execution_count": null,
      "metadata": {
        "id": "8HCgeF8had77"
      },
      "outputs": [
        {
          "name": "stdout",
          "output_type": "stream",
          "text": [
            "ENDPOINT: us-central1-aiplatform.googleapis.com\n",
            "PROJECT_ID: cloud-ml-e2e-testing\n",
            "REGION: us-central1\n",
            "PARENT: projects/cloud-ml-e2e-testing/locations/us-central1\n",
            "Updated property [core/project].\n"
          ]
        }
      ],
      "source": [
        "# Fill in your project ID and region\n",
        "REGION = \"us-central1\"  # @param {type:\"string\"}\n",
        "PROJECT_ID = \"cloud-ml-e2e-testing\"  # @param {type:\"string\"}\n",
        "\n",
        "# These will be automatically filled in.\n",
        "STUDY_DISPLAY_NAME = \"{}_study_{}\".format(\n",
        "    PROJECT_ID.replace(\"-\", \"\"), datetime.datetime.now().strftime(\"%Y%m%d_%H%M%S\")\n",
        ")  # @param {type: 'string'}\n",
        "ENDPOINT = REGION + \"-aiplatform.googleapis.com\"\n",
        "PARENT = \"projects/{}/locations/{}\".format(PROJECT_ID, REGION)\n",
        "\n",
        "print(\"ENDPOINT: {}\".format(ENDPOINT))\n",
        "print(\"PROJECT_ID: {}\".format(PROJECT_ID))\n",
        "print(\"REGION: {}\".format(REGION))\n",
        "print(\"PARENT: {}\".format(PARENT))\n",
        "! gcloud config set project $PROJECT_ID"
      ]
    },
    {
      "cell_type": "markdown",
      "metadata": {
        "id": "8NBduXsEaRKr"
      },
      "source": [
        "### Create the study configuration\n",
        "\n",
        "The following is a sample study configuration, built as a hierarchical python dictionary. It is already filled out. Run the cell to configure the study."
      ]
    },
    {
      "cell_type": "code",
      "execution_count": null,
      "metadata": {
        "id": "s-AHfPOASXXW"
      },
      "outputs": [
        {
          "name": "stdout",
          "output_type": "stream",
          "text": [
            "{\n",
            "  \"display_name\": \"cloudmle2etesting_study_20210407_213831\",\n",
            "  \"study_spec\": {\n",
            "    \"algorithm\": \"RANDOM_SEARCH\",\n",
            "    \"metrics\": [\n",
            "      {\n",
            "        \"goal\": \"MINIMIZE\",\n",
            "        \"metric_id\": \"y1\"\n",
            "      },\n",
            "      {\n",
            "        \"goal\": \"MAXIMIZE\",\n",
            "        \"metric_id\": \"y2\"\n",
            "      }\n",
            "    ],\n",
            "    \"parameters\": [\n",
            "      {\n",
            "        \"double_value_spec\": {\n",
            "          \"max_value\": 1,\n",
            "          \"min_value\": 0\n",
            "        },\n",
            "        \"parameter_id\": \"r\"\n",
            "      },\n",
            "      {\n",
            "        \"double_value_spec\": {\n",
            "          \"max_value\": 1.57,\n",
            "          \"min_value\": 0\n",
            "        },\n",
            "        \"parameter_id\": \"theta\"\n",
            "      }\n",
            "    ]\n",
            "  }\n",
            "}\n"
          ]
        }
      ],
      "source": [
        "# Parameter Configuration\n",
        "\n",
        "param_r = {\"parameter_id\": \"r\", \"double_value_spec\": {\"min_value\": 0, \"max_value\": 1}}\n",
        "\n",
        "param_theta = {\n",
        "    \"parameter_id\": \"theta\",\n",
        "    \"double_value_spec\": {\"min_value\": 0, \"max_value\": 1.57},\n",
        "}\n",
        "\n",
        "# Objective Metrics\n",
        "metric_y1 = {\"metric_id\": \"y1\", \"goal\": \"MINIMIZE\"}\n",
        "\n",
        "# Objective Metrics\n",
        "metric_y2 = {\"metric_id\": \"y2\", \"goal\": \"MAXIMIZE\"}\n",
        "\n",
        "# Put it all together in a study configuration\n",
        "study = {\n",
        "    \"display_name\": STUDY_DISPLAY_NAME,\n",
        "    \"study_spec\": {\n",
        "        \"algorithm\": \"RANDOM_SEARCH\",\n",
        "        \"parameters\": [\n",
        "            param_r,\n",
        "            param_theta,\n",
        "        ],\n",
        "        \"metrics\": [metric_y1, metric_y2],\n",
        "    },\n",
        "}\n",
        "\n",
        "print(json.dumps(study, indent=2, sort_keys=True))"
      ]
    },
    {
      "cell_type": "markdown",
      "metadata": {
        "id": "uyXG_RKha7Kb"
      },
      "source": [
        "### Create the study\n",
        "\n",
        "Next, create the study, which you will subsequently run to optimize the two objectives."
      ]
    },
    {
      "cell_type": "code",
      "execution_count": null,
      "metadata": {
        "id": "jgskzqZX0Mkt"
      },
      "outputs": [
        {
          "name": "stdout",
          "output_type": "stream",
          "text": [
            "STUDY_ID: projects/508879632478/locations/us-central1/studies/1276163931674\n"
          ]
        }
      ],
      "source": [
        "vizier_client = aiplatform_v1beta1.VizierServiceClient(\n",
        "    client_options=dict(api_endpoint=ENDPOINT)\n",
        ")\n",
        "study = vizier_client.create_study(parent=PARENT, study=study)\n",
        "STUDY_ID = study.name\n",
        "print(\"STUDY_ID: {}\".format(STUDY_ID))"
      ]
    },
    {
      "cell_type": "markdown",
      "metadata": {
        "id": "dKOMBKmtkcJb"
      },
      "source": [
        "### Metric evaluation functions\n",
        "\n",
        "Next, define some functions to evaluate the two objective metrics."
      ]
    },
    {
      "cell_type": "code",
      "execution_count": null,
      "metadata": {
        "id": "Xnl1uqnyz3Qp"
      },
      "outputs": [],
      "source": [
        "import math\n",
        "\n",
        "\n",
        "# r * sin(theta)\n",
        "def Metric1Evaluation(r, theta):\n",
        "    \"\"\"Evaluate the first metric on the trial.\"\"\"\n",
        "    return r * math.sin(theta)\n",
        "\n",
        "\n",
        "# r * cos(theta)\n",
        "def Metric2Evaluation(r, theta):\n",
        "    \"\"\"Evaluate the second metric on the trial.\"\"\"\n",
        "    return r * math.cos(theta)\n",
        "\n",
        "\n",
        "def CreateMetrics(trial_id, r, theta):\n",
        "    print((\"=========== Start Trial: [{}] =============\").format(trial_id))\n",
        "\n",
        "    # Evaluate both objective metrics for this trial\n",
        "    y1 = Metric1Evaluation(r, theta)\n",
        "    y2 = Metric2Evaluation(r, theta)\n",
        "    print(\n",
        "        \"[r = {}, theta = {}] => y1 = r*sin(theta) = {}, y2 = r*cos(theta) = {}\".format(\n",
        "            r, theta, y1, y2\n",
        "        )\n",
        "    )\n",
        "    metric1 = {\"metric_id\": \"y1\", \"value\": y1}\n",
        "    metric2 = {\"metric_id\": \"y2\", \"value\": y2}\n",
        "\n",
        "    # Return the results for this trial\n",
        "    return [metric1, metric2]"
      ]
    },
    {
      "cell_type": "markdown",
      "metadata": {
        "id": "Qzn5lVpRq05U"
      },
      "source": [
        "### Set configuration parameters for running trials\n",
        "\n",
        "__`client_id`__: The identifier of the client that is requesting the suggestion. If multiple SuggestTrialsRequests have the same `client_id`, the service will return the identical suggested trial if the trial is `PENDING`, and provide a new trial if the last suggested trial was completed.\n",
        "\n",
        "__`suggestion_count_per_request`__: The number of suggestions (trials) requested in a single request.\n",
        "\n",
        "__`max_trial_id_to_stop`__: The number of trials to explore before stopping. It is set to 4 to shorten the time to run the code, so don't expect convergence. For convergence, it would likely need to be about 20 (a good rule of thumb is to multiply the total dimensionality by 10).\n"
      ]
    },
    {
      "cell_type": "code",
      "execution_count": null,
      "metadata": {
        "id": "5usXaZA5qvUZ"
      },
      "outputs": [],
      "source": [
        "client_id = \"client1\"  # @param {type: 'string'}\n",
        "suggestion_count_per_request = 5  # @param {type: 'integer'}\n",
        "max_trial_id_to_stop = 4  # @param {type: 'integer'}\n",
        "\n",
        "print(\"client_id: {}\".format(client_id))\n",
        "print(\"suggestion_count_per_request: {}\".format(suggestion_count_per_request))\n",
        "print(\"max_trial_id_to_stop: {}\".format(max_trial_id_to_stop))"
      ]
    },
    {
      "cell_type": "markdown",
      "metadata": {
        "id": "UnV2SJNskm7V"
      },
      "source": [
        "### Run AI Platform Vizier trials\n",
        "\n",
        "Run the trials."
      ]
    },
    {
      "cell_type": "code",
      "execution_count": null,
      "metadata": {
        "id": "opmuTntW4-eS"
      },
      "outputs": [],
      "source": [
        "trial_id = 0\n",
        "while int(trial_id) < max_trial_id_to_stop:\n",
        "    suggest_response = vizier_client.suggest_trials(\n",
        "        {\n",
        "            \"parent\": STUDY_ID,\n",
        "            \"suggestion_count\": suggestion_count_per_request,\n",
        "            \"client_id\": client_id,\n",
        "        }\n",
        "    )\n",
        "\n",
        "    for suggested_trial in suggest_response.result().trials:\n",
        "        trial_id = suggested_trial.name.split(\"/\")[-1]\n",
        "        trial = vizier_client.get_trial({\"name\": suggested_trial.name})\n",
        "\n",
        "        if trial.state in [\"COMPLETED\", \"INFEASIBLE\"]:\n",
        "            continue\n",
        "\n",
        "        for param in trial.parameters:\n",
        "            if param.parameter_id == \"r\":\n",
        "                r = param.value\n",
        "            elif param.parameter_id == \"theta\":\n",
        "                theta = param.value\n",
        "        print(\"Trial : r is {}, theta is {}.\".format(r, theta))\n",
        "\n",
        "        vizier_client.add_trial_measurement(\n",
        "            {\n",
        "                \"trial_name\": suggested_trial.name,\n",
        "                \"measurement\": {\n",
        "                    \"metrics\": CreateMetrics(suggested_trial.name, r, theta)\n",
        "                },\n",
        "            }\n",
        "        )\n",
        "\n",
        "        response = vizier_client.complete_trial(\n",
        "            {\"name\": suggested_trial.name, \"trial_infeasible\": False}\n",
        "        )"
      ]
    },
    {
      "cell_type": "markdown",
      "metadata": {
        "id": "i5ZTqgqBiRsq"
      },
      "source": [
        "### List the optimal solutions\n",
        "\n",
        "list_optimal_trials returns the pareto-optimal Trials for multi-objective Study or the optimal Trials for single-objective Study. In the case, we define mutliple-objective in previeous steps, pareto-optimal trials will be returned."
      ]
    },
    {
      "cell_type": "code",
      "execution_count": null,
      "metadata": {
        "id": "Or2PL1YxTr33"
      },
      "outputs": [
        {
          "ename": "NotFound",
          "evalue": "ignored",
          "output_type": "error",
          "traceback": [
            "\u001b[0;31m---------------------------------------------------------------------------\u001b[0m",
            "\u001b[0;31m_InactiveRpcError\u001b[0m                         Traceback (most recent call last)",
            "\u001b[0;32m/usr/local/lib/python3.7/dist-packages/google/api_core/grpc_helpers.py\u001b[0m in \u001b[0;36merror_remapped_callable\u001b[0;34m(*args, **kwargs)\u001b[0m\n\u001b[1;32m     72\u001b[0m         \u001b[0;32mtry\u001b[0m\u001b[0;34m:\u001b[0m\u001b[0;34m\u001b[0m\u001b[0;34m\u001b[0m\u001b[0m\n\u001b[0;32m---> 73\u001b[0;31m             \u001b[0;32mreturn\u001b[0m \u001b[0mcallable_\u001b[0m\u001b[0;34m(\u001b[0m\u001b[0;34m*\u001b[0m\u001b[0margs\u001b[0m\u001b[0;34m,\u001b[0m \u001b[0;34m**\u001b[0m\u001b[0mkwargs\u001b[0m\u001b[0;34m)\u001b[0m\u001b[0;34m\u001b[0m\u001b[0;34m\u001b[0m\u001b[0m\n\u001b[0m\u001b[1;32m     74\u001b[0m         \u001b[0;32mexcept\u001b[0m \u001b[0mgrpc\u001b[0m\u001b[0;34m.\u001b[0m\u001b[0mRpcError\u001b[0m \u001b[0;32mas\u001b[0m \u001b[0mexc\u001b[0m\u001b[0;34m:\u001b[0m\u001b[0;34m\u001b[0m\u001b[0;34m\u001b[0m\u001b[0m\n",
            "\u001b[0;32m/usr/local/lib/python3.7/dist-packages/grpc/_channel.py\u001b[0m in \u001b[0;36m__call__\u001b[0;34m(self, request, timeout, metadata, credentials, wait_for_ready, compression)\u001b[0m\n\u001b[1;32m    825\u001b[0m                                       wait_for_ready, compression)\n\u001b[0;32m--> 826\u001b[0;31m         \u001b[0;32mreturn\u001b[0m \u001b[0m_end_unary_response_blocking\u001b[0m\u001b[0;34m(\u001b[0m\u001b[0mstate\u001b[0m\u001b[0;34m,\u001b[0m \u001b[0mcall\u001b[0m\u001b[0;34m,\u001b[0m \u001b[0;32mFalse\u001b[0m\u001b[0;34m,\u001b[0m \u001b[0;32mNone\u001b[0m\u001b[0;34m)\u001b[0m\u001b[0;34m\u001b[0m\u001b[0;34m\u001b[0m\u001b[0m\n\u001b[0m\u001b[1;32m    827\u001b[0m \u001b[0;34m\u001b[0m\u001b[0m\n",
            "\u001b[0;32m/usr/local/lib/python3.7/dist-packages/grpc/_channel.py\u001b[0m in \u001b[0;36m_end_unary_response_blocking\u001b[0;34m(state, call, with_call, deadline)\u001b[0m\n\u001b[1;32m    728\u001b[0m     \u001b[0;32melse\u001b[0m\u001b[0;34m:\u001b[0m\u001b[0;34m\u001b[0m\u001b[0;34m\u001b[0m\u001b[0m\n\u001b[0;32m--> 729\u001b[0;31m         \u001b[0;32mraise\u001b[0m \u001b[0m_InactiveRpcError\u001b[0m\u001b[0;34m(\u001b[0m\u001b[0mstate\u001b[0m\u001b[0;34m)\u001b[0m\u001b[0;34m\u001b[0m\u001b[0;34m\u001b[0m\u001b[0m\n\u001b[0m\u001b[1;32m    730\u001b[0m \u001b[0;34m\u001b[0m\u001b[0m\n",
            "\u001b[0;31m_InactiveRpcError\u001b[0m: <_InactiveRpcError of RPC that terminated with:\n\tstatus = StatusCode.NOT_FOUND\n\tdetails = \"The specified resource `1276163931674` cannot be found. It might be already deleted.\"\n\tdebug_error_string = \"{\"created\":\"@1617840518.057079401\",\"description\":\"Error received from peer ipv4:142.250.97.95:443\",\"file\":\"src/core/lib/surface/call.cc\",\"file_line\":1061,\"grpc_message\":\"The specified resource `1276163931674` cannot be found. It might be already deleted.\",\"grpc_status\":5}\"\n>",
            "\nThe above exception was the direct cause of the following exception:\n",
            "\u001b[0;31mNotFound\u001b[0m                                  Traceback (most recent call last)",
            "\u001b[0;32m<ipython-input-8-6d37c373dedb>\u001b[0m in \u001b[0;36m<module>\u001b[0;34m()\u001b[0m\n\u001b[1;32m      1\u001b[0m optimal_trials = vizier_client.list_optimal_trials({\n\u001b[0;32m----> 2\u001b[0;31m     \u001b[0;34m'parent'\u001b[0m\u001b[0;34m:\u001b[0m \u001b[0mSTUDY_ID\u001b[0m\u001b[0;34m\u001b[0m\u001b[0;34m\u001b[0m\u001b[0m\n\u001b[0m\u001b[1;32m      3\u001b[0m })\n\u001b[1;32m      4\u001b[0m \u001b[0;34m\u001b[0m\u001b[0m\n\u001b[1;32m      5\u001b[0m \u001b[0mprint\u001b[0m\u001b[0;34m(\u001b[0m\u001b[0;34m'optimal_trials: {}'\u001b[0m\u001b[0;34m.\u001b[0m\u001b[0mformat\u001b[0m\u001b[0;34m(\u001b[0m\u001b[0moptimal_trials\u001b[0m\u001b[0;34m)\u001b[0m\u001b[0;34m)\u001b[0m\u001b[0;34m\u001b[0m\u001b[0;34m\u001b[0m\u001b[0m\n",
            "\u001b[0;32m/usr/local/lib/python3.7/dist-packages/google/cloud/aiplatform_v1beta1/services/vizier_service/client.py\u001b[0m in \u001b[0;36mlist_optimal_trials\u001b[0;34m(self, request, parent, retry, timeout, metadata)\u001b[0m\n\u001b[1;32m   1460\u001b[0m \u001b[0;34m\u001b[0m\u001b[0m\n\u001b[1;32m   1461\u001b[0m         \u001b[0;31m# Send the request.\u001b[0m\u001b[0;34m\u001b[0m\u001b[0;34m\u001b[0m\u001b[0;34m\u001b[0m\u001b[0m\n\u001b[0;32m-> 1462\u001b[0;31m         \u001b[0mresponse\u001b[0m \u001b[0;34m=\u001b[0m \u001b[0mrpc\u001b[0m\u001b[0;34m(\u001b[0m\u001b[0mrequest\u001b[0m\u001b[0;34m,\u001b[0m \u001b[0mretry\u001b[0m\u001b[0;34m=\u001b[0m\u001b[0mretry\u001b[0m\u001b[0;34m,\u001b[0m \u001b[0mtimeout\u001b[0m\u001b[0;34m=\u001b[0m\u001b[0mtimeout\u001b[0m\u001b[0;34m,\u001b[0m \u001b[0mmetadata\u001b[0m\u001b[0;34m=\u001b[0m\u001b[0mmetadata\u001b[0m\u001b[0;34m,\u001b[0m\u001b[0;34m)\u001b[0m\u001b[0;34m\u001b[0m\u001b[0;34m\u001b[0m\u001b[0m\n\u001b[0m\u001b[1;32m   1463\u001b[0m \u001b[0;34m\u001b[0m\u001b[0m\n\u001b[1;32m   1464\u001b[0m         \u001b[0;31m# Done; return the response.\u001b[0m\u001b[0;34m\u001b[0m\u001b[0;34m\u001b[0m\u001b[0;34m\u001b[0m\u001b[0m\n",
            "\u001b[0;32m/usr/local/lib/python3.7/dist-packages/google/api_core/gapic_v1/method.py\u001b[0m in \u001b[0;36m__call__\u001b[0;34m(self, *args, **kwargs)\u001b[0m\n\u001b[1;32m    143\u001b[0m             \u001b[0mkwargs\u001b[0m\u001b[0;34m[\u001b[0m\u001b[0;34m\"metadata\"\u001b[0m\u001b[0;34m]\u001b[0m \u001b[0;34m=\u001b[0m \u001b[0mmetadata\u001b[0m\u001b[0;34m\u001b[0m\u001b[0;34m\u001b[0m\u001b[0m\n\u001b[1;32m    144\u001b[0m \u001b[0;34m\u001b[0m\u001b[0m\n\u001b[0;32m--> 145\u001b[0;31m         \u001b[0;32mreturn\u001b[0m \u001b[0mwrapped_func\u001b[0m\u001b[0;34m(\u001b[0m\u001b[0;34m*\u001b[0m\u001b[0margs\u001b[0m\u001b[0;34m,\u001b[0m \u001b[0;34m**\u001b[0m\u001b[0mkwargs\u001b[0m\u001b[0;34m)\u001b[0m\u001b[0;34m\u001b[0m\u001b[0;34m\u001b[0m\u001b[0m\n\u001b[0m\u001b[1;32m    146\u001b[0m \u001b[0;34m\u001b[0m\u001b[0m\n\u001b[1;32m    147\u001b[0m \u001b[0;34m\u001b[0m\u001b[0m\n",
            "\u001b[0;32m/usr/local/lib/python3.7/dist-packages/google/api_core/grpc_helpers.py\u001b[0m in \u001b[0;36merror_remapped_callable\u001b[0;34m(*args, **kwargs)\u001b[0m\n\u001b[1;32m     73\u001b[0m             \u001b[0;32mreturn\u001b[0m \u001b[0mcallable_\u001b[0m\u001b[0;34m(\u001b[0m\u001b[0;34m*\u001b[0m\u001b[0margs\u001b[0m\u001b[0;34m,\u001b[0m \u001b[0;34m**\u001b[0m\u001b[0mkwargs\u001b[0m\u001b[0;34m)\u001b[0m\u001b[0;34m\u001b[0m\u001b[0;34m\u001b[0m\u001b[0m\n\u001b[1;32m     74\u001b[0m         \u001b[0;32mexcept\u001b[0m \u001b[0mgrpc\u001b[0m\u001b[0;34m.\u001b[0m\u001b[0mRpcError\u001b[0m \u001b[0;32mas\u001b[0m \u001b[0mexc\u001b[0m\u001b[0;34m:\u001b[0m\u001b[0;34m\u001b[0m\u001b[0;34m\u001b[0m\u001b[0m\n\u001b[0;32m---> 75\u001b[0;31m             \u001b[0msix\u001b[0m\u001b[0;34m.\u001b[0m\u001b[0mraise_from\u001b[0m\u001b[0;34m(\u001b[0m\u001b[0mexceptions\u001b[0m\u001b[0;34m.\u001b[0m\u001b[0mfrom_grpc_error\u001b[0m\u001b[0;34m(\u001b[0m\u001b[0mexc\u001b[0m\u001b[0;34m)\u001b[0m\u001b[0;34m,\u001b[0m \u001b[0mexc\u001b[0m\u001b[0;34m)\u001b[0m\u001b[0;34m\u001b[0m\u001b[0;34m\u001b[0m\u001b[0m\n\u001b[0m\u001b[1;32m     76\u001b[0m \u001b[0;34m\u001b[0m\u001b[0m\n\u001b[1;32m     77\u001b[0m     \u001b[0;32mreturn\u001b[0m \u001b[0merror_remapped_callable\u001b[0m\u001b[0;34m\u001b[0m\u001b[0;34m\u001b[0m\u001b[0m\n",
            "\u001b[0;32m/usr/local/lib/python3.7/dist-packages/six.py\u001b[0m in \u001b[0;36mraise_from\u001b[0;34m(value, from_value)\u001b[0m\n",
            "\u001b[0;31mNotFound\u001b[0m: 404 The specified resource `1276163931674` cannot be found. It might be already deleted."
          ]
        }
      ],
      "source": [
        "optimal_trials = vizier_client.list_optimal_trials({\"parent\": STUDY_ID})\n",
        "\n",
        "print(\"optimal_trials: {}\".format(optimal_trials))"
      ]
    },
    {
      "cell_type": "markdown",
      "metadata": {
        "id": "KAxfq9Fri2YV"
      },
      "source": [
        "## Cleaning up\n",
        "\n",
        "To clean up all Google Cloud resources used in this project, you can [delete the Google Cloud\n",
        "project](https://cloud.google.com/resource-manager/docs/creating-managing-projects#shutting_down_projects) you used for the tutorial. You can also manually delete resources that you created by running the following code."
      ]
    },
    {
      "cell_type": "code",
      "execution_count": null,
      "metadata": {
        "id": "zQlLDfvlzYde"
      },
      "outputs": [],
      "source": [
        "vizier_client.delete_study({\"name\": STUDY_ID})"
      ]
    }
  ],
  "metadata": {
    "colab": {
      "collapsed_sections": [],
      "name": "ai_platform_unified_vizier_multi_objective.ipynb",
      "toc_visible": true
    },
    "kernelspec": {
      "display_name": "Python 3",
      "name": "python3"
    }
  },
  "nbformat": 4,
  "nbformat_minor": 0
}
